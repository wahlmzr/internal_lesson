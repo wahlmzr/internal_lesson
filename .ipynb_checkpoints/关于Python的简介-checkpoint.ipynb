{
 "cells": [
  {
   "cell_type": "code",
   "execution_count": null,
   "metadata": {
    "collapsed": true
   },
   "outputs": [],
   "source": [
    "import qrcode\n",
    "from PIL import Image\n",
    "import os\n",
    "\n",
    "def gen_qrcode(string, path, logo=\"\"):  \n",
    "    \"\"\"\n",
    "    生成中间带logo的二维码\n",
    "    需要安装qrcode, PIL库\n",
    "    :param string: 二维码字符串\n",
    "    :param path: 生成的二维码保存路径\n",
    "    :param logo: logo文件路径\n",
    "    :return:\n",
    "    \"\"\"  \n",
    "    qr = qrcode.QRCode(  \n",
    "        version=2,  \n",
    "        error_correction=qrcode.constants.ERROR_CORRECT_H,  \n",
    "        box_size=16,  \n",
    "        border=10\n",
    "    )  \n",
    "    qr.add_data(string)  \n",
    "    qr.make(fit=True)  \n",
    " \n",
    "    img = qr.make_image()  \n",
    "    img = img.convert(\"RGBA\")  \n",
    " \n",
    "    if logo and os.path.exists(logo):  \n",
    "        icon = Image.open(logo)  \n",
    "        img_w, img_h = img.size  \n",
    "        factor = 4  \n",
    "        size_w = int(img_w / factor)  \n",
    "        size_h = int(img_h / factor)  \n",
    " \n",
    "        icon_w, icon_h = icon.size  \n",
    "        if icon_w > size_w:  \n",
    "            icon_w = size_w  \n",
    "        if icon_h > size_h:  \n",
    "            icon_h = size_h  \n",
    "        icon = icon.resize((icon_w, icon_h), Image.ANTIALIAS)  \n",
    " \n",
    "        w = int((img_w - icon_w) / 2)  \n",
    "        h = int((img_h - icon_h) / 2)  \n",
    "        icon = icon.convert(\"RGBA\")  \n",
    "        img.paste(icon, (w, h), icon)  \n",
    "    img.save(path)  \n",
    " \n",
    "if __name__ == \"__main__\":  \n",
    "    gen_qrcode(\"itms-services:///?action=download-manifest&url=https:/gt-downloads.cisco.com/downloads/jabber/JabberIOS/LatestBuild/Maui.plist\",\"2.jpg\", \"IMG_1959.PNG\")\n"
   ]
  },
  {
   "cell_type": "markdown",
   "metadata": {},
   "source": [
    "# Python 简单介绍 #\n",
    "----\n",
    "\n",
    "## 特点 ##\n",
    "* 简洁 [一行 Python 能实现什么丧心病狂的功能？](https://www.zhihu.com/question/37046157)\n",
    "* geek [有哪些对树莓派的有趣改造和扩展应用？](https://www.zhihu.com/question/20697024)\n",
    "* 高效 开发，今日主要介绍\n",
    "\n",
    "## 方向 ##\n",
    "* 网页服务器 豆瓣、知乎\n",
    "* 爬虫 Google第一个爬虫\n",
    "* 机器学习、深度学习 事实的第一语言\n",
    "* 科学计算 \n",
    "\n",
    "## 科学计算\n",
    "* list tuple\n",
    "* dict set\n",
    "* numpy \n",
    "* pandas \n",
    "* maplotlib\n",
    "\n",
    "## 入门推荐 ##\n",
    "### 了解Python\n",
    "[廖雪峰blog](http://www.liaoxuefeng.com/wiki/0014316089557264a6b348958f449949df42a6d3a2e542c000/00143167793538255adf33371774853a0ef943280573f4d000)\n",
    "### 数据分析和处理\n",
    "numpy、matplotlib [用Python做科学计算](http://old.sebug.net/paper/books/scipydoc/index.html)\n",
    "pandas 《利用Python进行数据分析》，作者是pandas包的作者\n",
    "\n"
   ]
  },
  {
   "cell_type": "code",
   "execution_count": null,
   "metadata": {
    "collapsed": true
   },
   "outputs": [],
   "source": []
  }
 ],
 "metadata": {
  "anaconda-cloud": {},
  "kernelspec": {
   "display_name": "Python [conda root]",
   "language": "python",
   "name": "conda-root-py"
  },
  "language_info": {
   "codemirror_mode": {
    "name": "ipython",
    "version": 3
   },
   "file_extension": ".py",
   "mimetype": "text/x-python",
   "name": "python",
   "nbconvert_exporter": "python",
   "pygments_lexer": "ipython3",
   "version": "3.5.2"
  }
 },
 "nbformat": 4,
 "nbformat_minor": 1
}
