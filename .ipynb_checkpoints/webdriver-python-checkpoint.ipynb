{
 "cells": [
  {
   "cell_type": "code",
   "execution_count": 29,
   "metadata": {
    "collapsed": false,
    "scrolled": true
   },
   "outputs": [
    {
     "ename": "WebDriverException",
     "evalue": "Message: 'chromedriver' executable needs to be in PATH. Please see https://sites.google.com/a/chromium.org/chromedriver/home\n",
     "output_type": "error",
     "traceback": [
      "\u001b[0;31m---------------------------------------------------------------------------\u001b[0m",
      "\u001b[0;31mWebDriverException\u001b[0m                        Traceback (most recent call last)",
      "\u001b[0;32m<ipython-input-29-f8cf9fb83aaa>\u001b[0m in \u001b[0;36m<module>\u001b[0;34m()\u001b[0m\n\u001b[1;32m      1\u001b[0m \u001b[1;32mfrom\u001b[0m \u001b[0mselenium\u001b[0m \u001b[1;32mimport\u001b[0m \u001b[0mwebdriver\u001b[0m\u001b[1;33m\u001b[0m\u001b[0m\n\u001b[0;32m----> 2\u001b[0;31m \u001b[0mdr\u001b[0m \u001b[1;33m=\u001b[0m \u001b[0mwebdriver\u001b[0m\u001b[1;33m.\u001b[0m\u001b[0mChrome\u001b[0m\u001b[1;33m(\u001b[0m\u001b[1;33m)\u001b[0m\u001b[1;33m\u001b[0m\u001b[0m\n\u001b[0m",
      "\u001b[0;32mD:\\anaconda\\envs\\py2\\lib\\site-packages\\selenium\\webdriver\\chrome\\webdriver.pyc\u001b[0m in \u001b[0;36m__init__\u001b[0;34m(self, executable_path, port, chrome_options, service_args, desired_capabilities, service_log_path)\u001b[0m\n\u001b[1;32m     60\u001b[0m             \u001b[0mservice_args\u001b[0m\u001b[1;33m=\u001b[0m\u001b[0mservice_args\u001b[0m\u001b[1;33m,\u001b[0m\u001b[1;33m\u001b[0m\u001b[0m\n\u001b[1;32m     61\u001b[0m             log_path=service_log_path)\n\u001b[0;32m---> 62\u001b[0;31m         \u001b[0mself\u001b[0m\u001b[1;33m.\u001b[0m\u001b[0mservice\u001b[0m\u001b[1;33m.\u001b[0m\u001b[0mstart\u001b[0m\u001b[1;33m(\u001b[0m\u001b[1;33m)\u001b[0m\u001b[1;33m\u001b[0m\u001b[0m\n\u001b[0m\u001b[1;32m     63\u001b[0m \u001b[1;33m\u001b[0m\u001b[0m\n\u001b[1;32m     64\u001b[0m         \u001b[1;32mtry\u001b[0m\u001b[1;33m:\u001b[0m\u001b[1;33m\u001b[0m\u001b[0m\n",
      "\u001b[0;32mD:\\anaconda\\envs\\py2\\lib\\site-packages\\selenium\\webdriver\\common\\service.pyc\u001b[0m in \u001b[0;36mstart\u001b[0;34m(self)\u001b[0m\n\u001b[1;32m     79\u001b[0m                 raise WebDriverException(\n\u001b[1;32m     80\u001b[0m                     \"'%s' executable needs to be in PATH. %s\" % (\n\u001b[0;32m---> 81\u001b[0;31m                         os.path.basename(self.path), self.start_error_message)\n\u001b[0m\u001b[1;32m     82\u001b[0m                 )\n\u001b[1;32m     83\u001b[0m             \u001b[1;32melif\u001b[0m \u001b[0merr\u001b[0m\u001b[1;33m.\u001b[0m\u001b[0merrno\u001b[0m \u001b[1;33m==\u001b[0m \u001b[0merrno\u001b[0m\u001b[1;33m.\u001b[0m\u001b[0mEACCES\u001b[0m\u001b[1;33m:\u001b[0m\u001b[1;33m\u001b[0m\u001b[0m\n",
      "\u001b[0;31mWebDriverException\u001b[0m: Message: 'chromedriver' executable needs to be in PATH. Please see https://sites.google.com/a/chromium.org/chromedriver/home\n"
     ]
    }
   ],
   "source": [
    "from selenium import webdriver\n",
    "dr = webdriver.Chrome()"
   ]
  },
  {
   "cell_type": "markdown",
   "metadata": {},
   "source": [
    "此时报了一个“WebDriverException: Message: 'chromedriver' executable needs to be in PATH. Please see https://sites.google.com/a/chromium.org/chromedriver/home” 错误  \n",
    "[stack](http://stackoverflow.com/questions/8255929/running-webdriver-chrome-with-selenium)\n",
    "[博客](http://blog.sina.com.cn/s/blog_7407815a0101fi5l.html)  \n",
    "应该说是官方的方案"
   ]
  },
  {
   "cell_type": "code",
   "execution_count": 31,
   "metadata": {
    "collapsed": false
   },
   "outputs": [
    {
     "name": "stdout",
     "output_type": "stream",
     "text": [
      "close\n"
     ]
    }
   ],
   "source": [
    "#打开后关闭\n",
    "import os\n",
    "import time\n",
    "from selenium import webdriver\n",
    "chromedriver = r\"C:\\Program Files (x86)\\Google\\Chrome\\Application\\chromedriver.exe\"\n",
    "os.environ[\"webdriver.chrome.driver\"] = chromedriver\n",
    "driver =  webdriver.Chrome(chromedriver)\n",
    "time.sleep(2)\n",
    "driver.quit()\n",
    "print ('close')"
   ]
  },
  {
   "cell_type": "code",
   "execution_count": 32,
   "metadata": {
    "collapsed": false
   },
   "outputs": [
    {
     "name": "stdout",
     "output_type": "stream",
     "text": [
      "close\n"
     ]
    }
   ],
   "source": [
    "#浏览器最大化\n",
    "import os\n",
    "import time\n",
    "from selenium import webdriver\n",
    "chromedriver = r\"C:\\Program Files (x86)\\Google\\Chrome\\Application\\chromedriver.exe\"\n",
    "os.environ[\"webdriver.chrome.driver\"] = chromedriver\n",
    "driver =  webdriver.Chrome(chromedriver)\n",
    "time.sleep(2)\n",
    "driver.maximize_window()\n",
    "\n",
    "time.sleep(5)\n",
    "driver.quit()\n",
    "print ('close')"
   ]
  },
  {
   "cell_type": "code",
   "execution_count": 33,
   "metadata": {
    "collapsed": false
   },
   "outputs": [],
   "source": [
    "#设置浏览器大小\n",
    "import os\n",
    "import time\n",
    "from selenium import webdriver\n",
    "chromedriver = r\"C:\\Program Files (x86)\\Google\\Chrome\\Application\\chromedriver.exe\"\n",
    "os.environ[\"webdriver.chrome.driver\"] = chromedriver\n",
    "driver =  webdriver.Chrome(chromedriver)\n",
    "driver.set_window_size(240,320)\n",
    "driver.get('http://ww.3g.qq.com')\n",
    "time.sleep(5)\n",
    "driver.quit()"
   ]
  },
  {
   "cell_type": "code",
   "execution_count": 34,
   "metadata": {
    "collapsed": false
   },
   "outputs": [
    {
     "name": "stdout",
     "output_type": "stream",
     "text": [
      "accesshttp://www.baidu.com\n"
     ]
    }
   ],
   "source": [
    "#访问链接\n",
    "import os\n",
    "import time\n",
    "from selenium import webdriver\n",
    "chromedriver = r\"C:\\Program Files (x86)\\Google\\Chrome\\Application\\chromedriver.exe\"\n",
    "os.environ[\"webdriver.chrome.driver\"] = chromedriver\n",
    "driver =  webdriver.Chrome(chromedriver)\n",
    "url = 'http://www.baidu.com'\n",
    "print ('access%s'%(url))\n",
    "driver.get(url)\n",
    "time.sleep(5)\n",
    "driver.quit()"
   ]
  },
  {
   "cell_type": "code",
   "execution_count": 36,
   "metadata": {
    "collapsed": false
   },
   "outputs": [
    {
     "name": "stdout",
     "output_type": "stream",
     "text": [
      "access http://www.baidu.com\n",
      "title is 百度一下，你就知道\n",
      "current page is https://www.baidu.com/\n"
     ]
    }
   ],
   "source": [
    "#打印tilte 和url\n",
    "#设置浏览器大小\n",
    "import os\n",
    "import time\n",
    "from selenium import webdriver\n",
    "chromedriver = r\"C:\\Program Files (x86)\\Google\\Chrome\\Application\\chromedriver.exe\"\n",
    "os.environ[\"webdriver.chrome.driver\"] = chromedriver\n",
    "driver =  webdriver.Chrome(chromedriver)\n",
    "if 'HTTP_PROXY' in os.environ: del os.environ['HTTP_PROXY']\n",
    "\n",
    "url = 'http://www.baidu.com'\n",
    "print ('access %s'%(url))  \n",
    "driver.get(url)\n",
    "print ('title is %s'%driver.title)\n",
    "print ('current page is %s'%(driver.current_url))\n",
    "time.sleep(5)\n",
    "driver.quit()\n",
    "    "
   ]
  },
  {
   "cell_type": "code",
   "execution_count": 44,
   "metadata": {
    "collapsed": false
   },
   "outputs": [
    {
     "name": "stdout",
     "output_type": "stream",
     "text": [
      "access http://www.baidu.com\n",
      "access http://www.163.com/#frp10/\n",
      "load over\n",
      "web back\n",
      "web froward\n",
      "over\n"
     ]
    }
   ],
   "source": [
    "#前进与后退\n",
    "import time\n",
    "from selenium import webdriver\n",
    "chromedriver = r\"C:\\Program Files (x86)\\Google\\Chrome\\Application\\chromedriver.exe\"\n",
    "os.environ[\"webdriver.chrome.driver\"] = chromedriver\n",
    "driver =  webdriver.Chrome(chromedriver)\n",
    "first_url = 'http://www.baidu.com'\n",
    "print ('access %s'%(first_url))\n",
    "driver.get(first_url)\n",
    "time.sleep(5)\n",
    "second_url = 'http://www.163.com/#frp10/'\n",
    "print ('access %s'%(second_url))\n",
    "driver.get(second_url)\n",
    "print ('load over')\n",
    "time.sleep(5)\n",
    "\n",
    "driver.back()\n",
    "time.sleep(5)\n",
    "print ('web back')\n",
    "driver.forward()\n",
    "print ('web froward')\n",
    "time.sleep(5)\n",
    "driver.quit()\n",
    "print('over')"
   ]
  },
  {
   "cell_type": "code",
   "execution_count": 47,
   "metadata": {
    "collapsed": false
   },
   "outputs": [
    {
     "name": "stderr",
     "output_type": "stream",
     "text": [
      "Exception AttributeError: \"'Service' object has no attribute 'process'\" in <bound method Service.__del__ of <selenium.webdriver.chrome.service.Service object at 0x000000000528FB70>> ignored\n",
      "Exception AttributeError: \"'Service' object has no attribute 'process'\" in <bound method Service.__del__ of <selenium.webdriver.chrome.service.Service object at 0x0000000005259080>> ignored\n"
     ]
    },
    {
     "ename": "WebDriverException",
     "evalue": "Message: 'chromedriver' executable needs to be in PATH. Please see https://sites.google.com/a/chromium.org/chromedriver/home\n",
     "output_type": "error",
     "traceback": [
      "\u001b[0;31m---------------------------------------------------------------------------\u001b[0m",
      "\u001b[0;31mWebDriverException\u001b[0m                        Traceback (most recent call last)",
      "\u001b[0;32m<ipython-input-47-ff0a42767059>\u001b[0m in \u001b[0;36m<module>\u001b[0;34m()\u001b[0m\n\u001b[1;32m      9\u001b[0m \u001b[1;32mif\u001b[0m \u001b[1;34m'HTTP_PROXY'\u001b[0m\u001b[1;32min\u001b[0m \u001b[0mos\u001b[0m\u001b[1;33m.\u001b[0m\u001b[0menviron\u001b[0m\u001b[1;33m:\u001b[0m \u001b[1;32mdel\u001b[0m \u001b[0mos\u001b[0m\u001b[1;33m.\u001b[0m\u001b[0menviron\u001b[0m\u001b[1;33m[\u001b[0m\u001b[1;34m'HTTP_PROXY'\u001b[0m\u001b[1;33m]\u001b[0m\u001b[1;33m\u001b[0m\u001b[0m\n\u001b[1;32m     10\u001b[0m \u001b[1;33m\u001b[0m\u001b[0m\n\u001b[0;32m---> 11\u001b[0;31m \u001b[0mdr\u001b[0m \u001b[1;33m=\u001b[0m \u001b[0mwebdriver\u001b[0m\u001b[1;33m.\u001b[0m\u001b[0mChrome\u001b[0m\u001b[1;33m(\u001b[0m\u001b[1;33m)\u001b[0m\u001b[1;33m\u001b[0m\u001b[0m\n\u001b[0m\u001b[1;32m     12\u001b[0m \u001b[0mfile_path\u001b[0m \u001b[1;33m=\u001b[0m \u001b[1;34m'file:///D:/code/job_data_visual/form.html'\u001b[0m\u001b[1;33m\u001b[0m\u001b[0m\n\u001b[1;32m     13\u001b[0m \u001b[1;32mprint\u001b[0m \u001b[0mfile_path\u001b[0m\u001b[1;33m\u001b[0m\u001b[0m\n",
      "\u001b[0;32mD:\\anaconda\\envs\\py2\\lib\\site-packages\\selenium\\webdriver\\chrome\\webdriver.pyc\u001b[0m in \u001b[0;36m__init__\u001b[0;34m(self, executable_path, port, chrome_options, service_args, desired_capabilities, service_log_path)\u001b[0m\n\u001b[1;32m     60\u001b[0m             \u001b[0mservice_args\u001b[0m\u001b[1;33m=\u001b[0m\u001b[0mservice_args\u001b[0m\u001b[1;33m,\u001b[0m\u001b[1;33m\u001b[0m\u001b[0m\n\u001b[1;32m     61\u001b[0m             log_path=service_log_path)\n\u001b[0;32m---> 62\u001b[0;31m         \u001b[0mself\u001b[0m\u001b[1;33m.\u001b[0m\u001b[0mservice\u001b[0m\u001b[1;33m.\u001b[0m\u001b[0mstart\u001b[0m\u001b[1;33m(\u001b[0m\u001b[1;33m)\u001b[0m\u001b[1;33m\u001b[0m\u001b[0m\n\u001b[0m\u001b[1;32m     63\u001b[0m \u001b[1;33m\u001b[0m\u001b[0m\n\u001b[1;32m     64\u001b[0m         \u001b[1;32mtry\u001b[0m\u001b[1;33m:\u001b[0m\u001b[1;33m\u001b[0m\u001b[0m\n",
      "\u001b[0;32mD:\\anaconda\\envs\\py2\\lib\\site-packages\\selenium\\webdriver\\common\\service.pyc\u001b[0m in \u001b[0;36mstart\u001b[0;34m(self)\u001b[0m\n\u001b[1;32m     79\u001b[0m                 raise WebDriverException(\n\u001b[1;32m     80\u001b[0m                     \"'%s' executable needs to be in PATH. %s\" % (\n\u001b[0;32m---> 81\u001b[0;31m                         os.path.basename(self.path), self.start_error_message)\n\u001b[0m\u001b[1;32m     82\u001b[0m                 )\n\u001b[1;32m     83\u001b[0m             \u001b[1;32melif\u001b[0m \u001b[0merr\u001b[0m\u001b[1;33m.\u001b[0m\u001b[0merrno\u001b[0m \u001b[1;33m==\u001b[0m \u001b[0merrno\u001b[0m\u001b[1;33m.\u001b[0m\u001b[0mEACCES\u001b[0m\u001b[1;33m:\u001b[0m\u001b[1;33m\u001b[0m\u001b[0m\n",
      "\u001b[0;31mWebDriverException\u001b[0m: Message: 'chromedriver' executable needs to be in PATH. Please see https://sites.google.com/a/chromium.org/chromedriver/home\n"
     ]
    }
   ],
   "source": [
    "# 场景\n",
    "from selenium import webdriver\n",
    "from time import sleep\n",
    "import os\n",
    "chromedriver = r\"C:\\Program Files (x86)\\Google\\Chrome\\Application\\chromedriver.exe\"\n",
    "os.environ[\"webdriver.chrome.driver\"] = chromedriver\n",
    "dr =  webdriver.Chrome(chromedriver)\n",
    "\n",
    "if 'HTTP_PROXY'in os.environ: del os.environ['HTTP_PROXY']\n",
    "\n",
    "dr = webdriver.Chrome()\n",
    "file_path = 'file:///D:/code/job_data_visual/form.html'\n",
    "print file_path\n",
    "\n",
    "dr.get(file_path)\n",
    "\n",
    "# by id\n",
    "dr.find_element_by_id('inputEmail').click()\n",
    "\n",
    "# by name\n",
    "dr.find_element_by_name('password').click()\n",
    "\n",
    "# by tagname\n",
    "print dr.find_element_by_tag_name('form').get_attribute('class')\n",
    "\n",
    "# by class_name\n",
    "e = dr.find_element_by_class_name('controls')\n",
    "dr.execute_script('$(arguments[0]).fadeOut().fadeIn()', e)\n",
    "sleep(1)\n",
    "\n",
    "# by link text\n",
    "link = dr.find_element_by_link_text('register')\n",
    "dr.execute_script('$(arguments[0]).fadeOut().fadeIn()', link)\n",
    "sleep(1)\n",
    "\n",
    "# by partial link text\n",
    "link = dr.find_element_by_partial_link_text('reg')\n",
    "dr.execute_script('$(arguments[0]).fadeOut().fadeIn()', link)\n",
    "sleep(1)\n",
    "\n",
    "# by css selector\n",
    "div = dr.find_element_by_css_selector('.controls')\n",
    "dr.execute_script('$(arguments[0]).fadeOut().fadeIn()', div)\n",
    "sleep(1)\n",
    "\n",
    "# by xpath\n",
    "dr.find_element_by_xpath('/html/body/form/div[3]/div/label/input').click()\n",
    "\n",
    "sleep(2)\n",
    "dr.quit()"
   ]
  },
  {
   "cell_type": "code",
   "execution_count": null,
   "metadata": {
    "collapsed": true
   },
   "outputs": [],
   "source": []
  }
 ],
 "metadata": {
  "anaconda-cloud": {},
  "kernelspec": {
   "display_name": "Python [conda env:py2]",
   "language": "python",
   "name": "conda-env-py2-py"
  },
  "language_info": {
   "codemirror_mode": {
    "name": "ipython",
    "version": 2
   },
   "file_extension": ".py",
   "mimetype": "text/x-python",
   "name": "python",
   "nbconvert_exporter": "python",
   "pygments_lexer": "ipython2",
   "version": "2.7.13"
  }
 },
 "nbformat": 4,
 "nbformat_minor": 1
}
