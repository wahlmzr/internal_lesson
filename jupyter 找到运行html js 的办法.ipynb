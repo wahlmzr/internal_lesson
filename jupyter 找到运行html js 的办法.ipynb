{
 "cells": [
  {
   "cell_type": "code",
   "execution_count": 1,
   "metadata": {
    "collapsed": false
   },
   "outputs": [
    {
     "data": {
      "text/html": [
       "\n",
       "<script src=\"//code.highcharts.com/stock/highstock.js\"></script>\n",
       "<script src=\"//code.highcharts.com/highcharts-more.js\"></script>\n",
       "<script src=\"//code.highcharts.com/modules/exporting.js\"></script>\n"
      ],
      "text/plain": [
       "<IPython.core.display.HTML object>"
      ]
     },
     "metadata": {},
     "output_type": "display_data"
    }
   ],
   "source": [
    "%load_ext autoreload\n",
    "%autoreload 2\n",
    "\n",
    "import pandas as pd\n",
    "import datetime\n",
    "import os\n",
    "import numpy as np\n",
    "from pandas.compat import StringIO\n",
    "from pandas.io.common import urlopen\n",
    "from IPython.display import display, display_pretty, Javascript, HTML\n",
    "from pandas_highcharts.core import serialize\n",
    "from pandas_highcharts.display import display_charts\n",
    "import matplotlib.pyplot as plt\n",
    "\n",
    "# Data retrieved from http://www.quandl.com/api/v1/datasets/ODA/DEU_PCPIPCH.csv?column=1\n",
    "data = \"\"\"Date,Value\\n2019-12-31,1.7\\n2018-12-31,1.7\\n2017-12-31,1.7\\n2016-12-31,1.5\\n2015-12-31,1.247\\n2014-12-31,0.896\\n2013-12-31,1.601\\n2012-12-31,2.13\\n2011-12-31,2.498\\n2010-12-31,1.158\\n2009-12-31,0.226\\n2008-12-31,2.738\\n2007-12-31,2.285\\n2006-12-31,1.784\\n2005-12-31,1.92\\n2004-12-31,1.799\\n2003-12-31,1.022\\n2002-12-31,1.346\\n2001-12-31,1.904\\n2000-12-31,1.418\\n1999-12-31,0.626\\n1998-12-31,0.593\\n1997-12-31,1.542\\n1996-12-31,1.19\\n1995-12-31,1.733\\n1994-12-31,2.717\\n1993-12-31,4.476\\n1992-12-31,5.046\\n1991-12-31,3.474\\n1990-12-31,2.687\\n1989-12-31,2.778\\n1988-12-31,1.274\\n1987-12-31,0.242\\n1986-12-31,-0.125\\n1985-12-31,2.084\\n1984-12-31,2.396\\n1983-12-31,3.284\\n1982-12-31,5.256\\n1981-12-31,6.324\\n1980-12-31,5.447\\n\"\"\"\n",
    "df = pd.read_csv(StringIO(data), index_col=0, parse_dates=True)\n",
    "df = df.sort_index()"
   ]
  },
  {
   "cell_type": "code",
   "execution_count": 3,
   "metadata": {
    "collapsed": false
   },
   "outputs": [
    {
     "data": {
      "text/html": [
       "<div id=\"chart_idjbXbEdRx\"</div>\n",
       "    <script type=\"text/javascript\">new Highcharts.Chart({\"chart\":{\"renderTo\":\"chart_idjbXbEdRx\"},\"title\":{\"text\":\"Germany inflation rate\"},\"yAxis\":[{}],\"legend\":{\"enabled\":true},\"xAxis\":{\"type\":\"datetime\",\"title\":{\"text\":\"Date\"}},\"series\":[{\"yAxis\":0,\"data\":[[347068800000,5.447],[378604800000,6.324],[410140800000,5.256],[441676800000,3.284],[473299200000,2.396],[504835200000,2.084],[536371200000,-0.125],[567907200000,0.242],[599529600000,1.274],[631065600000,2.778],[662601600000,2.687],[694137600000,3.474],[725760000000,5.046],[757296000000,4.476],[788832000000,2.717],[820368000000,1.733],[851990400000,1.19],[883526400000,1.542],[915062400000,0.593],[946598400000,0.626],[978220800000,1.418],[1009756800000,1.904],[1041292800000,1.346],[1072828800000,1.022],[1104451200000,1.799],[1135987200000,1.92],[1167523200000,1.784],[1199059200000,2.285],[1230681600000,2.738],[1262217600000,0.226],[1293753600000,1.158],[1325289600000,2.498],[1356912000000,2.13],[1388448000000,1.601],[1419984000000,0.896],[1451520000000,1.247],[1483142400000,1.5],[1514678400000,1.7],[1546214400000,1.7],[1577750400000,1.7]],\"name\":\"Value\"}]});</script>"
      ],
      "text/plain": [
       "<IPython.core.display.HTML object>"
      ]
     },
     "metadata": {},
     "output_type": "display_data"
    }
   ],
   "source": [
    "display_charts(df, title=\"Germany inflation rate\")"
   ]
  },
  {
   "cell_type": "code",
   "execution_count": 17,
   "metadata": {
    "collapsed": false
   },
   "outputs": [
    {
     "data": {
      "text/html": [
       "<div id=\"chart_idVOOsXgMk\"</div>\n",
       "    <script type=\"text/javascript\">new Highcharts.StockChart({\"chart\":{\"renderTo\":\"chart_idVOOsXgMk\"},\"title\":{\"text\":\"Germany inflation rate\"},\"yAxis\":[{}],\"legend\":{\"enabled\":true},\"xAxis\":{\"type\":\"datetime\",\"title\":{\"text\":\"Date\"}},\"series\":[{\"yAxis\":0,\"data\":[[347068800000,5.447],[378604800000,6.324],[410140800000,5.256],[441676800000,3.284],[473299200000,2.396],[504835200000,2.084],[536371200000,-0.125],[567907200000,0.242],[599529600000,1.274],[631065600000,2.778],[662601600000,2.687],[694137600000,3.474],[725760000000,5.046],[757296000000,4.476],[788832000000,2.717],[820368000000,1.733],[851990400000,1.19],[883526400000,1.542],[915062400000,0.593],[946598400000,0.626],[978220800000,1.418],[1009756800000,1.904],[1041292800000,1.346],[1072828800000,1.022],[1104451200000,1.799],[1135987200000,1.92],[1167523200000,1.784],[1199059200000,2.285],[1230681600000,2.738],[1262217600000,0.226],[1293753600000,1.158],[1325289600000,2.498],[1356912000000,2.13],[1388448000000,1.601],[1419984000000,0.896],[1451520000000,1.247],[1483142400000,1.5],[1514678400000,1.7],[1546214400000,1.7],[1577750400000,1.7]],\"name\":\"Value\"}]});</script>"
      ],
      "text/plain": [
       "<IPython.core.display.HTML object>"
      ]
     },
     "metadata": {},
     "output_type": "display_data"
    }
   ],
   "source": [
    "display_charts(df, chart_type=\"stock\", title=\"Germany inflation rate\")"
   ]
  },
  {
   "cell_type": "code",
   "execution_count": 20,
   "metadata": {
    "collapsed": false
   },
   "outputs": [
    {
     "data": {
      "text/html": [
       "<div id=\"chart_iddzTXwXVv\"</div>\n",
       "    <script type=\"text/javascript\">new Highcharts.Chart({\"chart\":{\"width\":400,\"height\":200,\"renderTo\":\"chart_iddzTXwXVv\",\"type\":\"column\"},\"title\":{\"text\":\"Germany inflation rate\"},\"yAxis\":[{}],\"legend\":{\"enabled\":null},\"xAxis\":{\"type\":\"datetime\",\"title\":{\"text\":\"Date\"}},\"series\":[{\"yAxis\":0,\"data\":[[347068800000,5.447],[378604800000,6.324],[410140800000,5.256],[441676800000,3.284],[473299200000,2.396],[504835200000,2.084],[536371200000,-0.125],[567907200000,0.242],[599529600000,1.274],[631065600000,2.778],[662601600000,2.687],[694137600000,3.474],[725760000000,5.046],[757296000000,4.476],[788832000000,2.717],[820368000000,1.733],[851990400000,1.19],[883526400000,1.542],[915062400000,0.593],[946598400000,0.626],[978220800000,1.418],[1009756800000,1.904],[1041292800000,1.346],[1072828800000,1.022],[1104451200000,1.799],[1135987200000,1.92],[1167523200000,1.784],[1199059200000,2.285],[1230681600000,2.738],[1262217600000,0.226],[1293753600000,1.158],[1325289600000,2.498],[1356912000000,2.13],[1388448000000,1.601],[1419984000000,0.896],[1451520000000,1.247],[1483142400000,1.5],[1514678400000,1.7],[1546214400000,1.7],[1577750400000,1.7]],\"name\":\"Value\"}]});</script>"
      ],
      "text/plain": [
       "<IPython.core.display.HTML object>"
      ]
     },
     "metadata": {},
     "output_type": "display_data"
    }
   ],
   "source": [
    "display_charts(df, title=\"Germany inflation rate\", legend=None, kind=\"bar\", figsize = (400, 200))\n"
   ]
  },
  {
   "cell_type": "code",
   "execution_count": 21,
   "metadata": {
    "collapsed": true
   },
   "outputs": [],
   "source": [
    "# Data retrieved from https://www.quandl.com/api/v1/datasets/CVR/ANGEL_SECTORS.csv\n",
    "data = \"\"\"Year,Software,Healthcare,Hardware,Biotech,Telecom,Manufacturing,Financial Products and Services,IT Services,Industrial/Energy,Retail,Media\\n2013-12-31,23.0,14.0,,11.0,,,7.0,,,7.0,16.0\\n2012-12-31,23.0,14.0,,11.0,,,,,7.0,12.0,7.0\\n2011-12-31,23.0,19.0,,13.0,,,,7.0,13.0,,5.0\\n2010-12-31,16.0,30.0,,15.0,,,,5.0,8.0,5.0,\\n2009-12-31,19.0,17.0,,8.0,,,5.0,,17.0,9.0,\\n2008-12-31,13.0,16.0,,11.0,,,,,8.0,12.0,7.0\\n2007-12-31,27.0,19.0,,12.0,,,,,8.0,6.0,5.0\\n2006-12-31,18.0,21.0,,18.0,,,6.0,,6.0,8.0,\\n2005-12-31,18.0,20.0,8.0,12.0,,,,6.0,6.0,,6.0\\n2004-12-31,22.0,16.0,10.0,10.0,6.0,,8.0,8.0,,7.0,\\n2003-12-31,26.0,13.0,12.0,11.0,5.0,12.0,,,,,\\n2002-12-31,40.0,14.0,5.0,5.0,5.0,,,,,,\\n\"\"\"\n",
    "df3 = pd.read_csv(StringIO(data), index_col=0, parse_dates=True)\n",
    "df3 = df3.fillna(0) / 100\n",
    "df4 = pd.DataFrame(df3.mean(), columns=['ratio'])\n",
    "df4['total'] = 1"
   ]
  },
  {
   "cell_type": "code",
   "execution_count": 22,
   "metadata": {
    "collapsed": false
   },
   "outputs": [
    {
     "data": {
      "text/html": [
       "<div id=\"chart_idIDOvxcSK\"</div>\n",
       "    <script type=\"text/javascript\">new Highcharts.Chart({\"chart\":{\"renderTo\":\"chart_idIDOvxcSK\",\"type\":\"pie\"},\"title\":{\"text\":\"Angel Deals By Sector\"},\"tooltip\":{\"pointFormat\":\"{series.name}: <b>{point.percentage:.1f}%<\\/b>\"},\"legend\":{\"enabled\":true},\"yAxis\":[{}],\"xAxis\":{\"categories\":[\"Software\",\"Healthcare\",\"Hardware\",\"Biotech\",\"Telecom\",\"Manufacturing\",\"Financial Products and Services\",\"IT Services\",\"Industrial\\/Energy\",\"Retail\",\"Media\"]},\"series\":[{\"yAxis\":0,\"data\":[[\"Software\",0.2233333333],[\"Healthcare\",0.1775],[\"Hardware\",0.0291666667],[\"Biotech\",0.1141666667],[\"Telecom\",0.0133333333],[\"Manufacturing\",0.01],[\"Financial Products and Services\",0.0216666667],[\"IT Services\",0.0216666667],[\"Industrial\\/Energy\",0.0608333333],[\"Retail\",0.055],[\"Media\",0.0383333333]],\"name\":\"ratio\"}]});</script>"
      ],
      "text/plain": [
       "<IPython.core.display.HTML object>"
      ]
     },
     "metadata": {},
     "output_type": "display_data"
    }
   ],
   "source": [
    "display_charts(df4, kind='pie', y=['ratio'], title='Angel Deals By Sector', tooltip={'pointFormat': '{series.name}: <b>{point.percentage:.1f}%</b>'})"
   ]
  },
  {
   "cell_type": "code",
   "execution_count": 32,
   "metadata": {
    "collapsed": false
   },
   "outputs": [
    {
     "data": {
      "text/html": [
       "<div id=\"chart_idZoTnboNK\"</div>\n",
       "    <script type=\"text/javascript\">new Highcharts.Chart({\"chart\":{\"renderTo\":\"chart_idZoTnboNK\",\"type\":\"column\",\"polar\":true},\"title\":{\"text\":\"Angel Deals By Sector\"},\"yAxis\":[{\"max\":2.3,\"gridLineWidth\":1,\"gridLineDashStyle\":\"Dot\",\"min\":0}],\"legend\":{\"enabled\":true},\"xAxis\":{\"gridLineWidth\":1,\"categories\":[\"Software\",\"Healthcare\",\"Hardware\",\"Biotech\",\"Telecom\",\"Manufacturing\",\"Financial Products and Services\",\"IT Services\",\"Industrial\\/Energy\",\"Retail\",\"Media\"],\"gridLineDashStyle\":\"Dot\"},\"series\":[{\"yAxis\":0,\"data\":[2.68,2.13,0.35,1.37,0.16,0.12,0.26,0.26,0.73,0.66,0.46],\"name\":\"sum\"}]});</script>"
      ],
      "text/plain": [
       "<IPython.core.display.HTML object>"
      ]
     },
     "metadata": {},
     "output_type": "display_data"
    },
    {
     "data": {
      "text/html": [
       "<div>\n",
       "<table border=\"1\" class=\"dataframe\">\n",
       "  <thead>\n",
       "    <tr style=\"text-align: right;\">\n",
       "      <th></th>\n",
       "      <th>sum</th>\n",
       "    </tr>\n",
       "  </thead>\n",
       "  <tbody>\n",
       "    <tr>\n",
       "      <th>Software</th>\n",
       "      <td>2.68</td>\n",
       "    </tr>\n",
       "    <tr>\n",
       "      <th>Healthcare</th>\n",
       "      <td>2.13</td>\n",
       "    </tr>\n",
       "    <tr>\n",
       "      <th>Hardware</th>\n",
       "      <td>0.35</td>\n",
       "    </tr>\n",
       "    <tr>\n",
       "      <th>Biotech</th>\n",
       "      <td>1.37</td>\n",
       "    </tr>\n",
       "    <tr>\n",
       "      <th>Telecom</th>\n",
       "      <td>0.16</td>\n",
       "    </tr>\n",
       "    <tr>\n",
       "      <th>Manufacturing</th>\n",
       "      <td>0.12</td>\n",
       "    </tr>\n",
       "    <tr>\n",
       "      <th>Financial Products and Services</th>\n",
       "      <td>0.26</td>\n",
       "    </tr>\n",
       "    <tr>\n",
       "      <th>IT Services</th>\n",
       "      <td>0.26</td>\n",
       "    </tr>\n",
       "    <tr>\n",
       "      <th>Industrial/Energy</th>\n",
       "      <td>0.73</td>\n",
       "    </tr>\n",
       "    <tr>\n",
       "      <th>Retail</th>\n",
       "      <td>0.66</td>\n",
       "    </tr>\n",
       "    <tr>\n",
       "      <th>Media</th>\n",
       "      <td>0.46</td>\n",
       "    </tr>\n",
       "  </tbody>\n",
       "</table>\n",
       "</div>"
      ],
      "text/plain": [
       "                                  sum\n",
       "Software                         2.68\n",
       "Healthcare                       2.13\n",
       "Hardware                         0.35\n",
       "Biotech                          1.37\n",
       "Telecom                          0.16\n",
       "Manufacturing                    0.12\n",
       "Financial Products and Services  0.26\n",
       "IT Services                      0.26\n",
       "Industrial/Energy                0.73\n",
       "Retail                           0.66\n",
       "Media                            0.46"
      ]
     },
     "execution_count": 32,
     "metadata": {},
     "output_type": "execute_result"
    }
   ],
   "source": [
    "df4 = pd.DataFrame(df3.sum(), columns=['sum'])\n",
    "#df4.to_dict('series').items()[0][1].tolist()\n",
    "display_charts(df4, polar=True, kind='bar', ylim=(0, 2.3), title='Angel Deals By Sector',grid= 'true' , )\n",
    "df4"
   ]
  },
  {
   "cell_type": "code",
   "execution_count": 1,
   "metadata": {
    "collapsed": false
   },
   "outputs": [
    {
     "name": "stdout",
     "output_type": "stream",
     "text": [
      "loaded nvd3 IPython extension\n",
      "run nvd3.ipynb.initialize_javascript() to set up the notebook\n",
      "help(nvd3.ipynb.initialize_javascript) for options\n"
     ]
    }
   ],
   "source": [
    "from nvd3 import pieChart"
   ]
  },
  {
   "cell_type": "code",
   "execution_count": 2,
   "metadata": {
    "collapsed": true
   },
   "outputs": [],
   "source": [
    "type = 'pieChart'"
   ]
  },
  {
   "cell_type": "code",
   "execution_count": 3,
   "metadata": {
    "collapsed": true
   },
   "outputs": [],
   "source": [
    "chart = pieChart(name=type, color_category='category20c', height=450, width=450)"
   ]
  },
  {
   "cell_type": "code",
   "execution_count": 4,
   "metadata": {
    "collapsed": true
   },
   "outputs": [],
   "source": [
    "xdata = [\"Orange\", \"Banana\", \"Pear\", \"Kiwi\", \"Apple\", \"Strawberry\", \"Pineapple\"]"
   ]
  },
  {
   "cell_type": "code",
   "execution_count": 5,
   "metadata": {
    "collapsed": true
   },
   "outputs": [],
   "source": [
    "ydata = [3, 4, 0, 1, 5, 7, 3]"
   ]
  },
  {
   "cell_type": "code",
   "execution_count": 6,
   "metadata": {
    "collapsed": true
   },
   "outputs": [],
   "source": [
    "extra_serie = {\"tooltip\": {\"y_start\": \"\", \"y_end\": \" cal\"}}"
   ]
  },
  {
   "cell_type": "code",
   "execution_count": 7,
   "metadata": {
    "collapsed": true
   },
   "outputs": [],
   "source": [
    "chart.add_serie(y=ydata, x=xdata, extra=extra_serie)"
   ]
  },
  {
   "cell_type": "code",
   "execution_count": 8,
   "metadata": {
    "collapsed": true
   },
   "outputs": [],
   "source": [
    "chart.buildcontent()"
   ]
  },
  {
   "cell_type": "code",
   "execution_count": 15,
   "metadata": {
    "collapsed": false
   },
   "outputs": [
    {
     "name": "stdout",
     "output_type": "stream",
     "text": [
      "\n",
      "    <div id=\"piechart\"><svg style=\"width:450px;height:450px;\"></svg></div>\n",
      "\n",
      "\n",
      "    <script>\n",
      "\n",
      "\n",
      "\n",
      "    data_piechart=[{\"values\": [{\"value\": 3, \"label\": \"Orange\"}, {\"value\": 4, \"label\": \"Banana\"}, {\"value\": 0, \"label\": \"Pear\"}, {\"value\": 1, \"label\": \"Kiwi\"}, {\"value\": 5, \"label\": \"Apple\"}, {\"value\": 7, \"label\": \"Strawberry\"}, {\"value\": 3, \"label\": \"Pineapple\"}], \"key\": \"Serie 1\"}];\n",
      "\n",
      "    nv.addGraph(function() {\n",
      "        var chart = nv.models.pieChart();\n",
      "        chart.margin({top: 30, right: 60, bottom: 20, left: 60});\n",
      "        var datum = data_piechart[0].values;\n",
      "\n",
      "        chart.color(d3.scale.category20c().range());\n",
      "\n",
      "    chart.tooltipContent(function(key, y, e, graph) {\n",
      "          var x = String(key);\n",
      "              var y =  String(y)  + ' cal';\n",
      "\n",
      "              tooltip_str = '<center><b>'+x+'</b></center>' + y;\n",
      "              return tooltip_str;\n",
      "              });\n",
      "        chart.showLabels(true);\n",
      "\n",
      "            chart.donut(false);\n",
      "\n",
      "    chart.showLegend(true);\n",
      "\n",
      "\n",
      "\n",
      "\n",
      "        chart\n",
      "            .x(function(d) { return d.label })\n",
      "            .y(function(d) { return d.value });\n",
      "\n",
      "        chart.width(450);\n",
      "\n",
      "        chart.height(450);\n",
      "\n",
      "\n",
      "            d3.select('#piechart svg')\n",
      "            .datum(datum)\n",
      "            .transition().duration(500)\n",
      "            .attr('width', 450)\n",
      "            .attr('height', 450)\n",
      "            .call(chart);\n",
      "\n",
      "\n",
      "        });\n",
      "\n",
      "\n",
      "\n",
      "    </script>\n",
      "\n"
     ]
    }
   ],
   "source": [
    "print (chart.htmlcontent)"
   ]
  },
  {
   "cell_type": "code",
   "execution_count": 16,
   "metadata": {
    "collapsed": true
   },
   "outputs": [],
   "source": [
    "#!/usr/bin/python\n",
    "# -*- coding: utf-8 -*-\n",
    "\n",
    "\"\"\"\n",
    "Examples for Python-nvd3 is a Python wrapper for NVD3 graph library.\n",
    "NVD3 is an attempt to build re-usable charts and chart components\n",
    "for d3.js without taking away the power that d3.js gives you.\n",
    "\n",
    "Project location : https://github.com/areski/python-nvd3\n",
    "\"\"\"\n",
    "\n",
    "from nvd3 import pieChart\n",
    "\n",
    "\n",
    "# Open File for test\n",
    "output_file = open('test_pieChart.html', 'w')\n",
    "\n",
    "type = \"pieChart\"\n",
    "chart = pieChart(name=type, color_category='category20c', height=400, width=400)\n",
    "chart.set_containerheader(\"\\n\\n<h2>\" + type + \"</h2>\\n\\n\")\n",
    "chart.callback = '''\n",
    "                    function(){\n",
    "                    d3.selectAll(\".nv-pie .nv-pie .nv-slice\").on('click',\n",
    "                        function(d){\n",
    "                        console.log(\"piechart_callback_test: clicked on slice \" + JSON.stringify(d['data']));\n",
    "                        console.log('/app/fruit?type='.concat(d['data']['label']));\n",
    "                    }\n",
    "                '''\n",
    "\n",
    "extra_serie = {\"tooltip\": {\"y_start\": \"\", \"y_end\": \" cal\"}}\n",
    "xdata = [\"Orange\", \"Banana\", \"Pear\", \"Kiwi\", \"Apple\", \"Strawberry\", \"Pineapple\"]\n",
    "ydata = [3, 4, 0, 1, 5, 7, 3]\n",
    "\n",
    "chart.add_serie(y=ydata, x=xdata, extra=extra_serie)\n",
    "chart.buildhtml()\n",
    "output_file.write(chart.htmlcontent)\n",
    "# ---------------------------------------\n",
    "\n",
    "# close Html file\n",
    "output_file.close()\n"
   ]
  },
  {
   "cell_type": "code",
   "execution_count": 17,
   "metadata": {
    "collapsed": false
   },
   "outputs": [
    {
     "data": {
      "text/html": [
       "<!DOCTYPE html>\n",
       "<html lang=\"en\">\n",
       "    <head>\n",
       "        <meta charset=\"utf-8\" />\n",
       "        <link href=\"https://cdnjs.cloudflare.com/ajax/libs/nvd3/1.7.0/nv.d3.min.css\" rel=\"stylesheet\" />\n",
       "        <script src=\"https://cdnjs.cloudflare.com/ajax/libs/d3/3.5.5/d3.min.js\"></script>\n",
       "        <script src=\"https://cdnjs.cloudflare.com/ajax/libs/nvd3/1.7.0/nv.d3.min.js\"></script>\n",
       "    </head>\n",
       "    <body>\n",
       "        \n",
       "    \n",
       "\n",
       "<h2>pieChart</h2>\n",
       "\n",
       "<div id=\"piechart\"><svg style=\"width:400px;height:400px;\"></svg></div>\n",
       "\n",
       "\n",
       "    <script>\n",
       "\n",
       "\n",
       "\n",
       "    data_piechart=[{\"values\": [{\"value\": 3, \"label\": \"Orange\"}, {\"value\": 4, \"label\": \"Banana\"}, {\"value\": 0, \"label\": \"Pear\"}, {\"value\": 1, \"label\": \"Kiwi\"}, {\"value\": 5, \"label\": \"Apple\"}, {\"value\": 7, \"label\": \"Strawberry\"}, {\"value\": 3, \"label\": \"Pineapple\"}], \"key\": \"Serie 1\"}];\n",
       "\n",
       "    nv.addGraph(function() {\n",
       "        var chart = nv.models.pieChart();\n",
       "        chart.margin({top: 30, right: 60, bottom: 20, left: 60});\n",
       "        var datum = data_piechart[0].values;\n",
       "\n",
       "        chart.color(d3.scale.category20c().range());\n",
       "\n",
       "    chart.tooltipContent(function(key, y, e, graph) {\n",
       "          var x = String(key);\n",
       "              var y =  String(y)  + ' cal';\n",
       "\n",
       "              tooltip_str = '<center><b>'+x+'</b></center>' + y;\n",
       "              return tooltip_str;\n",
       "              });\n",
       "        chart.showLabels(true);\n",
       "\n",
       "            chart.donut(false);\n",
       "\n",
       "    chart.showLegend(true);\n",
       "\n",
       "\n",
       "\n",
       "\n",
       "        chart\n",
       "            .x(function(d) { return d.label })\n",
       "            .y(function(d) { return d.value });\n",
       "\n",
       "        chart.width(400);\n",
       "\n",
       "        chart.height(400);\n",
       "\n",
       "\n",
       "            d3.select('#piechart svg')\n",
       "            .datum(datum)\n",
       "            .transition().duration(500)\n",
       "            .attr('width', 400)\n",
       "            .attr('height', 400)\n",
       "            .call(chart);\n",
       "\n",
       "\n",
       "        });\n",
       "\n",
       "\n",
       "\n",
       "    </script>\n",
       "\n",
       "    </body>\n",
       "</html>"
      ],
      "text/plain": [
       "<IPython.core.display.HTML object>"
      ]
     },
     "metadata": {},
     "output_type": "display_data"
    }
   ],
   "source": [
    "%%html\n",
    "test_pieChart.html"
   ]
  },
  {
   "cell_type": "code",
   "execution_count": null,
   "metadata": {
    "collapsed": true
   },
   "outputs": [],
   "source": []
  }
 ],
 "metadata": {
  "anaconda-cloud": {},
  "kernelspec": {
   "display_name": "Python [conda root]",
   "language": "python",
   "name": "conda-root-py"
  },
  "language_info": {
   "codemirror_mode": {
    "name": "ipython",
    "version": 3
   },
   "file_extension": ".py",
   "mimetype": "text/x-python",
   "name": "python",
   "nbconvert_exporter": "python",
   "pygments_lexer": "ipython3",
   "version": "3.5.2"
  }
 },
 "nbformat": 4,
 "nbformat_minor": 1
}
